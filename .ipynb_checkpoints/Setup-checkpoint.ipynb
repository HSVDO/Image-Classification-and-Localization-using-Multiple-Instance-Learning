{
 "cells": [
  {
   "cell_type": "raw",
   "id": "57f6ce0a-cb80-482a-9f92-7fffe9b22f9c",
   "metadata": {},
   "source": [
    "Installing requirements for https://github.com/HSVDO/Image-Classification-and-Localization-using-Multiple-Instance-Learning"
   ]
  },
  {
   "cell_type": "code",
   "execution_count": 1,
   "id": "0fda54b6-51a5-4b5a-9125-da3f1d2c480d",
   "metadata": {},
   "outputs": [
    {
     "name": "stdout",
     "output_type": "stream",
     "text": [
      "Version 3.9.15\n"
     ]
    }
   ],
   "source": [
    "from platform import python_version\n",
    "\n",
    "\n",
    "print(\"Version \" + python_version())"
   ]
  },
  {
   "cell_type": "code",
   "execution_count": 1,
   "id": "ad52deba-3a15-4084-85f2-756d0ce6f548",
   "metadata": {},
   "outputs": [
    {
     "name": "stdout",
     "output_type": "stream",
     "text": [
      "Collecting absl-py==0.7.0Note: you may need to restart the kernel to use updated packages.\n"
     ]
    },
    {
     "name": "stderr",
     "output_type": "stream",
     "text": [
      "  error: subprocess-exited-with-error\n",
      "  \n",
      "  python setup.py egg_info did not run successfully.\n",
      "  exit code: 1\n",
      "  \n",
      "  [27 lines of output]\n",
      "  Traceback (most recent call last):\n",
      "    File \"<string>\", line 2, in <module>\n",
      "    File \"<pip-setuptools-caller>\", line 14, in <module>\n",
      "    File \"C:\\Users\\Benjamin\\anaconda3\\envs\\ami\\lib\\site-packages\\setuptools\\__init__.py\", line 247, in <module>\n",
      "      monkey.patch_all()\n",
      "    File \"C:\\Users\\Benjamin\\anaconda3\\envs\\ami\\lib\\site-packages\\setuptools\\monkey.py\", line 97, in patch_all\n",
      "      patch_for_msvc_specialized_compiler()\n",
      "    File \"C:\\Users\\Benjamin\\anaconda3\\envs\\ami\\lib\\site-packages\\setuptools\\monkey.py\", line 157, in patch_for_msvc_specialized_compiler\n",
      "      patch_func(*msvc14('_get_vc_env'))\n",
      "    File \"C:\\Users\\Benjamin\\anaconda3\\envs\\ami\\lib\\site-packages\\setuptools\\monkey.py\", line 147, in patch_params\n",
      "      mod = import_module(mod_name)\n",
      "    File \"C:\\Users\\Benjamin\\anaconda3\\envs\\ami\\lib\\importlib\\__init__.py\", line 127, in import_module\n",
      "      return _bootstrap._gcd_import(name[level:], package, level)\n",
      "    File \"C:\\Users\\Benjamin\\anaconda3\\envs\\ami\\lib\\site-packages\\setuptools\\_distutils\\_msvccompiler.py\", line 20, in <module>\n",
      "      import unittest.mock as mock\n",
      "    File \"C:\\Users\\Benjamin\\anaconda3\\envs\\ami\\lib\\unittest\\mock.py\", line 26, in <module>\n",
      "      import asyncio\n",
      "    File \"C:\\Users\\Benjamin\\anaconda3\\envs\\ami\\lib\\asyncio\\__init__.py\", line 8, in <module>\n",
      "      from .base_events import *\n",
      "    File \"C:\\Users\\Benjamin\\anaconda3\\envs\\ami\\lib\\asyncio\\base_events.py\", line 18, in <module>\n",
      "      import concurrent.futures\n",
      "    File \"C:\\Users\\Benjamin\\AppData\\Local\\Temp\\pip-install-i50tgb7q\\futures_f31898cb129b47cb9787c850b4847bbd\\concurrent\\futures\\__init__.py\", line 8, in <module>\n",
      "      from concurrent.futures._base import (FIRST_COMPLETED,\n",
      "    File \"C:\\Users\\Benjamin\\AppData\\Local\\Temp\\pip-install-i50tgb7q\\futures_f31898cb129b47cb9787c850b4847bbd\\concurrent\\futures\\_base.py\", line 357\n",
      "      raise type(self._exception), self._exception, self._traceback\n",
      "                                 ^\n",
      "  SyntaxError: invalid syntax\n",
      "  [end of output]\n",
      "  \n",
      "  note: This error originates from a subprocess, and is likely not a problem with pip.\n",
      "error: metadata-generation-failed\n",
      "\n",
      "Encountered error while generating package metadata.\n",
      "\n",
      "See above for output.\n",
      "\n",
      "note: This is an issue with the package mentioned above, not pip.\n",
      "hint: See above for details.\n"
     ]
    },
    {
     "name": "stdout",
     "output_type": "stream",
     "text": [
      "\n",
      "  Using cached absl-py-0.7.0.tar.gz (96 kB)\n",
      "  Preparing metadata (setup.py): started\n",
      "  Preparing metadata (setup.py): finished with status 'done'\n",
      "Collecting astor==0.7.1\n",
      "  Using cached astor-0.7.1-py2.py3-none-any.whl (27 kB)\n",
      "Collecting backports.functools-lru-cache==1.5\n",
      "  Using cached backports.functools_lru_cache-1.5-py2.py3-none-any.whl (7.0 kB)\n",
      "Collecting backports.weakref==1.0.post1\n",
      "  Using cached backports.weakref-1.0.post1-py2.py3-none-any.whl (5.2 kB)\n",
      "Collecting cycler==0.10.0\n",
      "  Using cached cycler-0.10.0-py2.py3-none-any.whl (6.5 kB)\n",
      "Collecting enum34==1.1.6\n",
      "  Using cached enum34-1.1.6-py3-none-any.whl (12 kB)\n",
      "Collecting funcsigs==1.0.2\n",
      "  Using cached funcsigs-1.0.2-py2.py3-none-any.whl (17 kB)\n",
      "Collecting futures\n",
      "  Using cached futures-3.0.5.tar.gz (25 kB)\n",
      "  Preparing metadata (setup.py): started\n",
      "  Preparing metadata (setup.py): finished with status 'error'\n"
     ]
    }
   ],
   "source": [
    "pip install -r requirements.txt"
   ]
  },
  {
   "cell_type": "code",
   "execution_count": 1,
   "id": "f927c461-e2e3-4c5c-b466-dc9131578ebf",
   "metadata": {},
   "outputs": [
    {
     "name": "stderr",
     "output_type": "stream",
     "text": [
      "WARNING: Ignoring invalid distribution -illow (d:\\programme\\anaconda_envs\\ami_3_7\\lib\\site-packages)\n",
      "WARNING: Ignoring invalid distribution -illow (d:\\programme\\anaconda_envs\\ami_3_7\\lib\\site-packages)\n",
      "WARNING: Skipping torchaudio as it is not installed.\n",
      "WARNING: Ignoring invalid distribution -illow (d:\\programme\\anaconda_envs\\ami_3_7\\lib\\site-packages)\n",
      "WARNING: Skipping torchvision as it is not installed.\n",
      "WARNING: Ignoring invalid distribution -illow (d:\\programme\\anaconda_envs\\ami_3_7\\lib\\site-packages)\n",
      "WARNING: Skipping torch as it is not installed.\n"
     ]
    }
   ],
   "source": [
    "!pip uninstall -y torchaudio torchvision torch"
   ]
  },
  {
   "cell_type": "code",
   "execution_count": 5,
   "id": "ddd0fafe-4904-4f75-ae03-7ac4fa9854ea",
   "metadata": {},
   "outputs": [
    {
     "name": "stdout",
     "output_type": "stream",
     "text": [
      "Looking in indexes: https://pypi.org/simple, https://download.pytorch.org/whl/cu116\n",
      "Collecting torch\n",
      "  Using cached https://download.pytorch.org/whl/cu116/torch-1.13.1%2Bcu116-cp37-cp37m-win_amd64.whl (2434.1 MB)\n",
      "Collecting torchvision\n",
      "  Using cached https://download.pytorch.org/whl/cu116/torchvision-0.14.1%2Bcu116-cp37-cp37m-win_amd64.whl (4.8 MB)\n",
      "Collecting torchaudio\n",
      "  Using cached https://download.pytorch.org/whl/cu116/torchaudio-0.13.1%2Bcu116-cp37-cp37m-win_amd64.whl (2.3 MB)\n",
      "Collecting typing-extensions\n",
      "  Using cached typing_extensions-4.5.0-py3-none-any.whl (27 kB)\n",
      "Collecting requests\n",
      "  Using cached requests-2.28.2-py3-none-any.whl (62 kB)\n",
      "Collecting numpy\n",
      "  Using cached numpy-1.21.6-cp37-cp37m-win_amd64.whl (14.0 MB)\n",
      "Collecting pillow!=8.3.*,>=5.3.0\n",
      "  Using cached Pillow-9.4.0-cp37-cp37m-win_amd64.whl (2.5 MB)\n",
      "Collecting certifi>=2017.4.17\n",
      "  Using cached certifi-2022.12.7-py3-none-any.whl (155 kB)\n",
      "Collecting charset-normalizer<4,>=2\n",
      "  Using cached charset_normalizer-3.0.1-cp37-cp37m-win_amd64.whl (94 kB)\n",
      "Collecting idna<4,>=2.5\n",
      "  Using cached idna-3.4-py3-none-any.whl (61 kB)\n",
      "Collecting urllib3<1.27,>=1.21.1\n",
      "  Using cached urllib3-1.26.14-py2.py3-none-any.whl (140 kB)\n",
      "Installing collected packages: charset-normalizer, urllib3, typing-extensions, pillow, numpy, idna, certifi, torch, requests, torchvision, torchaudio\n",
      "Successfully installed certifi-2022.12.7 charset-normalizer-3.0.1 idna-3.4 numpy-1.21.6 pillow-9.4.0 requests-2.28.2 torch-1.13.1+cu116 torchaudio-0.13.1+cu116 torchvision-0.14.1+cu116 typing-extensions-4.5.0 urllib3-1.26.14\n"
     ]
    },
    {
     "name": "stderr",
     "output_type": "stream",
     "text": [
      "WARNING: Ignoring invalid distribution -illow (d:\\programme\\anaconda_envs\\ami_3_7\\lib\\site-packages)\n",
      "WARNING: Ignoring invalid distribution -illow (d:\\programme\\anaconda_envs\\ami_3_7\\lib\\site-packages)\n",
      "WARNING: Target directory E:\\Programme\\python-dependencies\\certifi already exists. Specify --upgrade to force replacement.\n",
      "WARNING: Target directory E:\\Programme\\python-dependencies\\certifi-2022.12.7.dist-info already exists. Specify --upgrade to force replacement.\n",
      "WARNING: Target directory E:\\Programme\\python-dependencies\\charset_normalizer already exists. Specify --upgrade to force replacement.\n",
      "WARNING: Target directory E:\\Programme\\python-dependencies\\charset_normalizer-3.0.1.dist-info already exists. Specify --upgrade to force replacement.\n",
      "WARNING: Target directory E:\\Programme\\python-dependencies\\functorch already exists. Specify --upgrade to force replacement.\n",
      "WARNING: Target directory E:\\Programme\\python-dependencies\\idna already exists. Specify --upgrade to force replacement.\n",
      "WARNING: Target directory E:\\Programme\\python-dependencies\\idna-3.4.dist-info already exists. Specify --upgrade to force replacement.\n",
      "WARNING: Target directory E:\\Programme\\python-dependencies\\numpy already exists. Specify --upgrade to force replacement.\n",
      "WARNING: Target directory E:\\Programme\\python-dependencies\\numpy-1.21.6.dist-info already exists. Specify --upgrade to force replacement.\n",
      "WARNING: Target directory E:\\Programme\\python-dependencies\\PIL already exists. Specify --upgrade to force replacement.\n",
      "WARNING: Target directory E:\\Programme\\python-dependencies\\Pillow-9.4.0.dist-info already exists. Specify --upgrade to force replacement.\n",
      "WARNING: Target directory E:\\Programme\\python-dependencies\\requests already exists. Specify --upgrade to force replacement.\n",
      "WARNING: Target directory E:\\Programme\\python-dependencies\\requests-2.28.2.dist-info already exists. Specify --upgrade to force replacement.\n",
      "WARNING: Target directory E:\\Programme\\python-dependencies\\torch already exists. Specify --upgrade to force replacement.\n",
      "WARNING: Target directory E:\\Programme\\python-dependencies\\torch-1.13.1+cu116.dist-info already exists. Specify --upgrade to force replacement.\n",
      "WARNING: Target directory E:\\Programme\\python-dependencies\\torchaudio already exists. Specify --upgrade to force replacement.\n",
      "WARNING: Target directory E:\\Programme\\python-dependencies\\torchaudio-0.13.1+cu116.dist-info already exists. Specify --upgrade to force replacement.\n",
      "WARNING: Target directory E:\\Programme\\python-dependencies\\torchgen already exists. Specify --upgrade to force replacement.\n",
      "WARNING: Target directory E:\\Programme\\python-dependencies\\torchvision already exists. Specify --upgrade to force replacement.\n",
      "WARNING: Target directory E:\\Programme\\python-dependencies\\torchvision-0.14.1+cu116.dist-info already exists. Specify --upgrade to force replacement.\n",
      "WARNING: Target directory E:\\Programme\\python-dependencies\\typing_extensions-4.5.0.dist-info already exists. Specify --upgrade to force replacement.\n",
      "WARNING: Target directory E:\\Programme\\python-dependencies\\typing_extensions.py already exists. Specify --upgrade to force replacement.\n",
      "WARNING: Target directory E:\\Programme\\python-dependencies\\urllib3 already exists. Specify --upgrade to force replacement.\n",
      "WARNING: Target directory E:\\Programme\\python-dependencies\\urllib3-1.26.14.dist-info already exists. Specify --upgrade to force replacement.\n",
      "WARNING: Target directory E:\\Programme\\python-dependencies\\__pycache__ already exists. Specify --upgrade to force replacement.\n",
      "WARNING: Target directory E:\\Programme\\python-dependencies\\bin already exists. Specify --upgrade to force replacement.\n",
      "WARNING: Ignoring invalid distribution -illow (d:\\programme\\anaconda_envs\\ami_3_7\\lib\\site-packages)\n",
      "WARNING: Ignoring invalid distribution -illow (d:\\programme\\anaconda_envs\\ami_3_7\\lib\\site-packages)\n",
      "WARNING: Ignoring invalid distribution -illow (d:\\programme\\anaconda_envs\\ami_3_7\\lib\\site-packages)\n"
     ]
    }
   ],
   "source": [
    "!pip install torch torchvision torchaudio --extra-index-url https://download.pytorch.org/whl/cu116"
   ]
  },
  {
   "cell_type": "code",
   "execution_count": null,
   "id": "684c5a50-e447-4d9a-b5bb-bad105db6df3",
   "metadata": {},
   "outputs": [],
   "source": [
    "!conda install pytorch torchvision torchaudio pytorch-cuda=11.6 -c pytorch -c nvidia"
   ]
  },
  {
   "cell_type": "code",
   "execution_count": 1,
   "id": "9f530493-21f2-4090-bc19-87f3aaf7d0c9",
   "metadata": {},
   "outputs": [
    {
     "name": "stdout",
     "output_type": "stream",
     "text": [
      "Package                       Version\n",
      "----------------------------- ------------\n",
      "absl-py                       0.7.0\n",
      "anyio                         3.6.2\n",
      "argon2-cffi                   21.3.0\n",
      "argon2-cffi-bindings          21.2.0\n",
      "astor                         0.7.1\n",
      "attrs                         22.2.0\n",
      "Babel                         2.11.0\n",
      "backcall                      0.2.0\n",
      "backports.functools-lru-cache 1.5\n",
      "backports.weakref             1.0.post1\n",
      "beautifulsoup4                4.11.1\n",
      "bleach                        5.0.1\n",
      "brotlipy                      0.7.0\n",
      "cached-property               1.5.2\n",
      "certifi                       2022.12.7\n",
      "cffi                          1.15.1\n",
      "charset-normalizer            2.1.1\n",
      "colorama                      0.4.6\n",
      "cryptography                  37.0.4\n",
      "cycler                        0.10.0\n",
      "debugpy                       1.5.1\n",
      "decorator                     5.1.1\n",
      "defusedxml                    0.7.1\n",
      "entrypoints                   0.4\n",
      "enum34                        1.1.6\n",
      "fastjsonschema                2.16.2\n",
      "flit_core                     3.8.0\n",
      "funcsigs                      1.0.2\n",
      "futures                       3.0.5\n",
      "gast                          0.2.2\n",
      "grpcio                        1.19.0\n",
      "h5py                          2.9.0\n",
      "idna                          3.4\n",
      "imageio                       2.9.0\n",
      "importlib-metadata            4.11.4\n",
      "importlib-resources           5.10.2\n",
      "ipykernel                     6.9.1\n",
      "ipython                       7.31.1\n",
      "ipython-genutils              0.2.0\n",
      "ipywidgets                    8.0.4\n",
      "jedi                          0.18.1\n",
      "Jinja2                        3.1.2\n",
      "json5                         0.9.5\n",
      "jsonschema                    4.17.3\n",
      "jupyter-client                7.2.2\n",
      "jupyter-core                  4.10.0\n",
      "jupyter-server                1.23.4\n",
      "jupyterlab                    3.5.2\n",
      "jupyterlab-pygments           0.2.2\n",
      "jupyterlab_server             2.18.0\n",
      "jupyterlab-widgets            3.0.5\n",
      "Keras-Applications            1.0.7\n",
      "Keras-Preprocessing           1.0.9\n",
      "kiwisolver                    1.0.1\n",
      "Markdown                      3.0.1\n",
      "MarkupSafe                    2.1.1\n",
      "matplotlib                    2.2.3\n",
      "matplotlib-inline             0.1.6\n",
      "mistune                       2.0.4\n",
      "mock                          2.0.0\n",
      "nbclassic                     0.4.8\n",
      "nbclient                      0.6.8\n",
      "nbconvert                     7.2.7\n",
      "nbformat                      5.7.1\n",
      "nest-asyncio                  1.5.5\n",
      "networkx                      2.6.3\n",
      "notebook                      6.5.2\n",
      "notebook_shim                 0.2.2\n",
      "numpy                         1.21.6\n",
      "opencv-python                 4.0.0.21\n",
      "openslide-python              1.2.0\n",
      "packaging                     22.0\n",
      "pandocfilters                 1.5.0\n",
      "parso                         0.8.3\n",
      "pbr                           5.1.3\n",
      "pickleshare                   0.7.5\n",
      "Pillow                        5.3.0\n",
      "pip                           22.3.1\n",
      "pkgutil_resolve_name          1.3.10\n",
      "prometheus-client             0.15.0\n",
      "prompt-toolkit                3.0.36\n",
      "protobuf                      3.7.0\n",
      "pycparser                     2.21\n",
      "Pygments                      2.11.2\n",
      "pyOpenSSL                     22.0.0\n",
      "pyparsing                     2.2.2\n",
      "pyrsistent                    0.18.0\n",
      "PySocks                       1.7.1\n",
      "python-dateutil               2.7.4\n",
      "pytz                          2018.6\n",
      "PyWavelets                    1.3.0\n",
      "pywin32                       302\n",
      "pywinpty                      2.0.2\n",
      "pyzmq                         22.3.0\n",
      "requests                      2.28.1\n",
      "scipy                         1.7.3\n",
      "Send2Trash                    1.8.0\n",
      "setuptools                    65.5.0\n",
      "six                           1.11.0\n",
      "sniffio                       1.3.0\n",
      "soupsieve                     2.3.2.post1\n",
      "subprocess32                  3.5.3\n",
      "tensorboard                   1.13.1\n",
      "tensorboardX                  1.6\n",
      "tensorflow                    1.13.1\n",
      "tensorflow-estimator          1.13.0\n",
      "termcolor                     1.1.0\n",
      "terminado                     0.15.0\n",
      "tifffile                      2021.11.2\n",
      "tinycss2                      1.2.1\n",
      "tomli                         2.0.1\n",
      "torch                         1.13.1+cu116\n",
      "torchaudio                    0.13.1+cu116\n",
      "torchvision                   0.14.1+cu116\n",
      "tornado                       6.1\n",
      "tqdm                          4.64.1\n",
      "traitlets                     5.7.1\n",
      "typing_extensions             4.4.0\n",
      "urllib3                       1.26.13\n",
      "wcwidth                       0.2.5\n",
      "webencodings                  0.5.1\n",
      "websocket-client              1.4.2\n",
      "Werkzeug                      0.14.1\n",
      "wheel                         0.37.1\n",
      "widgetsnbextension            4.0.5\n",
      "win-inet-pton                 1.1.0\n",
      "wincertstore                  0.2\n",
      "wrapt                         1.14.1\n",
      "zipp                          3.11.0\n"
     ]
    }
   ],
   "source": [
    "!pip list"
   ]
  },
  {
   "cell_type": "code",
   "execution_count": null,
   "id": "aeb6cd54-24d2-4b14-b5ad-f01a45418b73",
   "metadata": {},
   "outputs": [],
   "source": []
  }
 ],
 "metadata": {
  "kernelspec": {
   "display_name": "ami_3_7",
   "language": "python",
   "name": "ami_3_7"
  },
  "language_info": {
   "codemirror_mode": {
    "name": "ipython",
    "version": 3
   },
   "file_extension": ".py",
   "mimetype": "text/x-python",
   "name": "python",
   "nbconvert_exporter": "python",
   "pygments_lexer": "ipython3",
   "version": "3.7.15"
  }
 },
 "nbformat": 4,
 "nbformat_minor": 5
}
