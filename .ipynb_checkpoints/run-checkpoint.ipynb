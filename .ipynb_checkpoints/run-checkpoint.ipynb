{
 "cells": [
  {
   "cell_type": "raw",
   "id": "f3770542-21e0-4326-b936-b26ac38b1426",
   "metadata": {},
   "source": [
    "Installing requirements for https://github.com/HSVDO/Image-Classification-and-Localization-using-Multiple-Instance-Learning"
   ]
  },
  {
   "cell_type": "code",
   "execution_count": 1,
   "id": "91136772-a513-4e10-8c83-150031a8f605",
   "metadata": {},
   "outputs": [
    {
     "name": "stdout",
     "output_type": "stream",
     "text": [
      "Requirement already satisfied: absl-py==0.7.0 in c:\\users\\benjamin\\anaconda3\\envs\\ami_3_7\\lib\\site-packages (from -r ../Algorithms/Image-Classification-and-Localization-using-Multiple-Instance-Learning/requirements.txt (line 1)) (0.7.0)\n",
      "Requirement already satisfied: astor==0.7.1 in c:\\users\\benjamin\\anaconda3\\envs\\ami_3_7\\lib\\site-packages (from -r ../Algorithms/Image-Classification-and-Localization-using-Multiple-Instance-Learning/requirements.txt (line 2)) (0.7.1)\n",
      "Requirement already satisfied: backports.functools-lru-cache==1.5 in c:\\users\\benjamin\\anaconda3\\envs\\ami_3_7\\lib\\site-packages (from -r ../Algorithms/Image-Classification-and-Localization-using-Multiple-Instance-Learning/requirements.txt (line 3)) (1.5)\n",
      "Requirement already satisfied: backports.weakref==1.0.post1 in c:\\users\\benjamin\\anaconda3\\envs\\ami_3_7\\lib\\site-packages (from -r ../Algorithms/Image-Classification-and-Localization-using-Multiple-Instance-Learning/requirements.txt (line 4)) (1.0.post1)\n",
      "Requirement already satisfied: cycler==0.10.0 in c:\\users\\benjamin\\anaconda3\\envs\\ami_3_7\\lib\\site-packages (from -r ../Algorithms/Image-Classification-and-Localization-using-Multiple-Instance-Learning/requirements.txt (line 5)) (0.10.0)\n",
      "Requirement already satisfied: enum34==1.1.6 in c:\\users\\benjamin\\anaconda3\\envs\\ami_3_7\\lib\\site-packages (from -r ../Algorithms/Image-Classification-and-Localization-using-Multiple-Instance-Learning/requirements.txt (line 6)) (1.1.6)\n",
      "Requirement already satisfied: funcsigs==1.0.2 in c:\\users\\benjamin\\anaconda3\\envs\\ami_3_7\\lib\\site-packages (from -r ../Algorithms/Image-Classification-and-Localization-using-Multiple-Instance-Learning/requirements.txt (line 7)) (1.0.2)\n",
      "Requirement already satisfied: futures in c:\\users\\benjamin\\anaconda3\\envs\\ami_3_7\\lib\\site-packages (from -r ../Algorithms/Image-Classification-and-Localization-using-Multiple-Instance-Learning/requirements.txt (line 8)) (3.0.5)\n",
      "Requirement already satisfied: gast==0.2.2 in c:\\users\\benjamin\\anaconda3\\envs\\ami_3_7\\lib\\site-packages (from -r ../Algorithms/Image-Classification-and-Localization-using-Multiple-Instance-Learning/requirements.txt (line 9)) (0.2.2)\n",
      "Requirement already satisfied: grpcio==1.19.0 in c:\\users\\benjamin\\anaconda3\\envs\\ami_3_7\\lib\\site-packages (from -r ../Algorithms/Image-Classification-and-Localization-using-Multiple-Instance-Learning/requirements.txt (line 10)) (1.19.0)\n",
      "Requirement already satisfied: h5py==2.9.0 in c:\\users\\benjamin\\anaconda3\\envs\\ami_3_7\\lib\\site-packages (from -r ../Algorithms/Image-Classification-and-Localization-using-Multiple-Instance-Learning/requirements.txt (line 11)) (2.9.0)\n",
      "Requirement already satisfied: Keras-Applications==1.0.7 in c:\\users\\benjamin\\anaconda3\\envs\\ami_3_7\\lib\\site-packages (from -r ../Algorithms/Image-Classification-and-Localization-using-Multiple-Instance-Learning/requirements.txt (line 12)) (1.0.7)\n",
      "Requirement already satisfied: Keras-Preprocessing==1.0.9 in c:\\users\\benjamin\\anaconda3\\envs\\ami_3_7\\lib\\site-packages (from -r ../Algorithms/Image-Classification-and-Localization-using-Multiple-Instance-Learning/requirements.txt (line 13)) (1.0.9)\n",
      "Requirement already satisfied: kiwisolver==1.0.1 in c:\\users\\benjamin\\anaconda3\\envs\\ami_3_7\\lib\\site-packages (from -r ../Algorithms/Image-Classification-and-Localization-using-Multiple-Instance-Learning/requirements.txt (line 14)) (1.0.1)\n",
      "Requirement already satisfied: Markdown==3.0.1 in c:\\users\\benjamin\\anaconda3\\envs\\ami_3_7\\lib\\site-packages (from -r ../Algorithms/Image-Classification-and-Localization-using-Multiple-Instance-Learning/requirements.txt (line 15)) (3.0.1)\n",
      "Requirement already satisfied: matplotlib==2.2.3 in c:\\users\\benjamin\\anaconda3\\envs\\ami_3_7\\lib\\site-packages (from -r ../Algorithms/Image-Classification-and-Localization-using-Multiple-Instance-Learning/requirements.txt (line 16)) (2.2.3)\n",
      "Requirement already satisfied: mock==2.0.0 in c:\\users\\benjamin\\anaconda3\\envs\\ami_3_7\\lib\\site-packages (from -r ../Algorithms/Image-Classification-and-Localization-using-Multiple-Instance-Learning/requirements.txt (line 17)) (2.0.0)\n",
      "Requirement already satisfied: numpy==1.15.0 in c:\\users\\benjamin\\anaconda3\\envs\\ami_3_7\\lib\\site-packages (from -r ../Algorithms/Image-Classification-and-Localization-using-Multiple-Instance-Learning/requirements.txt (line 18)) (1.15.0)\n",
      "Requirement already satisfied: opencv-python==4.0.0.21 in c:\\users\\benjamin\\anaconda3\\envs\\ami_3_7\\lib\\site-packages (from -r ../Algorithms/Image-Classification-and-Localization-using-Multiple-Instance-Learning/requirements.txt (line 19)) (4.0.0.21)\n",
      "Requirement already satisfied: pbr==5.1.3 in c:\\users\\benjamin\\anaconda3\\envs\\ami_3_7\\lib\\site-packages (from -r ../Algorithms/Image-Classification-and-Localization-using-Multiple-Instance-Learning/requirements.txt (line 20)) (5.1.3)\n",
      "Requirement already satisfied: Pillow==5.3.0 in c:\\users\\benjamin\\anaconda3\\envs\\ami_3_7\\lib\\site-packages (from -r ../Algorithms/Image-Classification-and-Localization-using-Multiple-Instance-Learning/requirements.txt (line 21)) (5.3.0)\n",
      "Requirement already satisfied: protobuf==3.7.0 in c:\\users\\benjamin\\anaconda3\\envs\\ami_3_7\\lib\\site-packages (from -r ../Algorithms/Image-Classification-and-Localization-using-Multiple-Instance-Learning/requirements.txt (line 22)) (3.7.0)\n",
      "Requirement already satisfied: pyparsing==2.2.2 in c:\\users\\benjamin\\anaconda3\\envs\\ami_3_7\\lib\\site-packages (from -r ../Algorithms/Image-Classification-and-Localization-using-Multiple-Instance-Learning/requirements.txt (line 23)) (2.2.2)\n",
      "Requirement already satisfied: python-dateutil==2.7.4 in c:\\users\\benjamin\\anaconda3\\envs\\ami_3_7\\lib\\site-packages (from -r ../Algorithms/Image-Classification-and-Localization-using-Multiple-Instance-Learning/requirements.txt (line 24)) (2.7.4)\n",
      "Requirement already satisfied: pytz==2018.6 in c:\\users\\benjamin\\anaconda3\\envs\\ami_3_7\\lib\\site-packages (from -r ../Algorithms/Image-Classification-and-Localization-using-Multiple-Instance-Learning/requirements.txt (line 25)) (2018.6)\n",
      "Requirement already satisfied: scipy==1.2.2 in c:\\users\\benjamin\\anaconda3\\envs\\ami_3_7\\lib\\site-packages (from -r ../Algorithms/Image-Classification-and-Localization-using-Multiple-Instance-Learning/requirements.txt (line 26)) (1.2.2)\n",
      "Requirement already satisfied: six==1.11.0 in c:\\users\\benjamin\\anaconda3\\envs\\ami_3_7\\lib\\site-packages (from -r ../Algorithms/Image-Classification-and-Localization-using-Multiple-Instance-Learning/requirements.txt (line 27)) (1.11.0)\n",
      "Requirement already satisfied: subprocess32==3.5.3 in c:\\users\\benjamin\\anaconda3\\envs\\ami_3_7\\lib\\site-packages (from -r ../Algorithms/Image-Classification-and-Localization-using-Multiple-Instance-Learning/requirements.txt (line 28)) (3.5.3)\n",
      "Requirement already satisfied: tensorboard==1.13.1 in c:\\users\\benjamin\\anaconda3\\envs\\ami_3_7\\lib\\site-packages (from -r ../Algorithms/Image-Classification-and-Localization-using-Multiple-Instance-Learning/requirements.txt (line 29)) (1.13.1)\n",
      "Requirement already satisfied: tensorboardX==1.6 in c:\\users\\benjamin\\anaconda3\\envs\\ami_3_7\\lib\\site-packages (from -r ../Algorithms/Image-Classification-and-Localization-using-Multiple-Instance-Learning/requirements.txt (line 30)) (1.6)\n",
      "Requirement already satisfied: tensorflow==1.13.1 in c:\\users\\benjamin\\anaconda3\\envs\\ami_3_7\\lib\\site-packages (from -r ../Algorithms/Image-Classification-and-Localization-using-Multiple-Instance-Learning/requirements.txt (line 31)) (1.13.1)\n",
      "Requirement already satisfied: tensorflow-estimator==1.13.0 in c:\\users\\benjamin\\anaconda3\\envs\\ami_3_7\\lib\\site-packages (from -r ../Algorithms/Image-Classification-and-Localization-using-Multiple-Instance-Learning/requirements.txt (line 32)) (1.13.0)\n",
      "Requirement already satisfied: termcolor==1.1.0 in c:\\users\\benjamin\\anaconda3\\envs\\ami_3_7\\lib\\site-packages (from -r ../Algorithms/Image-Classification-and-Localization-using-Multiple-Instance-Learning/requirements.txt (line 33)) (1.1.0)\n",
      "Requirement already satisfied: torch in c:\\users\\benjamin\\anaconda3\\envs\\ami_3_7\\lib\\site-packages (from -r ../Algorithms/Image-Classification-and-Localization-using-Multiple-Instance-Learning/requirements.txt (line 34)) (1.13.1)\n",
      "Requirement already satisfied: torchvision==0.2.1 in c:\\users\\benjamin\\anaconda3\\envs\\ami_3_7\\lib\\site-packages (from -r ../Algorithms/Image-Classification-and-Localization-using-Multiple-Instance-Learning/requirements.txt (line 35)) (0.2.1)\n",
      "Requirement already satisfied: Werkzeug==0.14.1 in c:\\users\\benjamin\\anaconda3\\envs\\ami_3_7\\lib\\site-packages (from -r ../Algorithms/Image-Classification-and-Localization-using-Multiple-Instance-Learning/requirements.txt (line 36)) (0.14.1)\n",
      "Requirement already satisfied: setuptools in c:\\users\\benjamin\\anaconda3\\envs\\ami_3_7\\lib\\site-packages (from kiwisolver==1.0.1->-r ../Algorithms/Image-Classification-and-Localization-using-Multiple-Instance-Learning/requirements.txt (line 14)) (65.5.0)\n",
      "Requirement already satisfied: wheel>=0.26 in c:\\users\\benjamin\\anaconda3\\envs\\ami_3_7\\lib\\site-packages (from tensorboard==1.13.1->-r ../Algorithms/Image-Classification-and-Localization-using-Multiple-Instance-Learning/requirements.txt (line 29)) (0.37.1)\n",
      "Requirement already satisfied: typing-extensions in c:\\users\\benjamin\\anaconda3\\envs\\ami_3_7\\lib\\site-packages (from torch->-r ../Algorithms/Image-Classification-and-Localization-using-Multiple-Instance-Learning/requirements.txt (line 34)) (4.4.0)\n",
      "Note: you may need to restart the kernel to use updated packages.\n"
     ]
    }
   ],
   "source": [
    "pip install -r ../Algorithms/Image-Classification-and-Localization-using-Multiple-Instance-Learning/requirements.txt"
   ]
  },
  {
   "cell_type": "code",
   "execution_count": 1,
   "id": "df3e7cf8-8972-4251-9826-87343894d355",
   "metadata": {},
   "outputs": [
    {
     "ename": "FileNotFoundError",
     "evalue": "[WinError 3] Das System kann den angegebenen Pfad nicht finden: '../AMIL_Data/test/40X'",
     "output_type": "error",
     "traceback": [
      "\u001b[1;31m---------------------------------------------------------------------------\u001b[0m",
      "\u001b[1;31mFileNotFoundError\u001b[0m                         Traceback (most recent call last)",
      "\u001b[1;32m~\\AMI\\Algorithms\\Image-Classification-and-Localization-using-Multiple-Instance-Learning\\my_network\\net.py\u001b[0m in \u001b[0;36m<module>\u001b[1;34m\u001b[0m\n\u001b[0;32m     28\u001b[0m \u001b[0mtransform\u001b[0m \u001b[1;33m=\u001b[0m \u001b[0mtransforms\u001b[0m\u001b[1;33m.\u001b[0m\u001b[0mCompose\u001b[0m\u001b[1;33m(\u001b[0m\u001b[1;33m[\u001b[0m\u001b[0mtransforms\u001b[0m\u001b[1;33m.\u001b[0m\u001b[0mRandomCrop\u001b[0m\u001b[1;33m(\u001b[0m\u001b[1;36m128\u001b[0m\u001b[1;33m)\u001b[0m\u001b[1;33m,\u001b[0m \u001b[0mtransforms\u001b[0m\u001b[1;33m.\u001b[0m\u001b[0mToTensor\u001b[0m\u001b[1;33m(\u001b[0m\u001b[1;33m)\u001b[0m\u001b[1;33m,\u001b[0m \u001b[1;33m]\u001b[0m\u001b[1;33m)\u001b[0m\u001b[1;33m\u001b[0m\u001b[1;33m\u001b[0m\u001b[0m\n\u001b[0;32m     29\u001b[0m \u001b[1;33m\u001b[0m\u001b[0m\n\u001b[1;32m---> 30\u001b[1;33m \u001b[0mdata_train\u001b[0m \u001b[1;33m=\u001b[0m \u001b[0mtorchvision\u001b[0m\u001b[1;33m.\u001b[0m\u001b[0mdatasets\u001b[0m\u001b[1;33m.\u001b[0m\u001b[0mImageFolder\u001b[0m\u001b[1;33m(\u001b[0m\u001b[1;34m\"../AMIL_Data/test/{}\"\u001b[0m\u001b[1;33m.\u001b[0m\u001b[0mformat\u001b[0m\u001b[1;33m(\u001b[0m\u001b[0mzoom_level_x\u001b[0m\u001b[1;33m)\u001b[0m\u001b[1;33m,\u001b[0m \u001b[0mtransform\u001b[0m\u001b[1;33m=\u001b[0m\u001b[0mtransform\u001b[0m\u001b[1;33m)\u001b[0m\u001b[1;33m\u001b[0m\u001b[1;33m\u001b[0m\u001b[0m\n\u001b[0m\u001b[0;32m     31\u001b[0m \u001b[1;31m# print(data_train)\u001b[0m\u001b[1;33m\u001b[0m\u001b[1;33m\u001b[0m\u001b[1;33m\u001b[0m\u001b[0m\n\u001b[0;32m     32\u001b[0m \u001b[0mdata_test\u001b[0m \u001b[1;33m=\u001b[0m \u001b[0mtorchvision\u001b[0m\u001b[1;33m.\u001b[0m\u001b[0mdatasets\u001b[0m\u001b[1;33m.\u001b[0m\u001b[0mImageFolder\u001b[0m\u001b[1;33m(\u001b[0m\u001b[1;34m\"../AMIL_Data/train/{}\"\u001b[0m\u001b[1;33m.\u001b[0m\u001b[0mformat\u001b[0m\u001b[1;33m(\u001b[0m\u001b[0mzoom_level_x\u001b[0m\u001b[1;33m)\u001b[0m\u001b[1;33m,\u001b[0m \u001b[0mtransform\u001b[0m\u001b[1;33m=\u001b[0m\u001b[0mtransform\u001b[0m\u001b[1;33m)\u001b[0m\u001b[1;33m\u001b[0m\u001b[1;33m\u001b[0m\u001b[0m\n",
      "\u001b[1;32m~\\anaconda3\\envs\\ami_3_7\\lib\\site-packages\\torchvision\\datasets\\folder.py\u001b[0m in \u001b[0;36m__init__\u001b[1;34m(self, root, transform, target_transform, loader)\u001b[0m\n\u001b[0;32m    176\u001b[0m         super(ImageFolder, self).__init__(root, loader, IMG_EXTENSIONS,\n\u001b[0;32m    177\u001b[0m                                           \u001b[0mtransform\u001b[0m\u001b[1;33m=\u001b[0m\u001b[0mtransform\u001b[0m\u001b[1;33m,\u001b[0m\u001b[1;33m\u001b[0m\u001b[1;33m\u001b[0m\u001b[0m\n\u001b[1;32m--> 178\u001b[1;33m                                           target_transform=target_transform)\n\u001b[0m\u001b[0;32m    179\u001b[0m         \u001b[0mself\u001b[0m\u001b[1;33m.\u001b[0m\u001b[0mimgs\u001b[0m \u001b[1;33m=\u001b[0m \u001b[0mself\u001b[0m\u001b[1;33m.\u001b[0m\u001b[0msamples\u001b[0m\u001b[1;33m\u001b[0m\u001b[1;33m\u001b[0m\u001b[0m\n",
      "\u001b[1;32m~\\anaconda3\\envs\\ami_3_7\\lib\\site-packages\\torchvision\\datasets\\folder.py\u001b[0m in \u001b[0;36m__init__\u001b[1;34m(self, root, loader, extensions, transform, target_transform)\u001b[0m\n\u001b[0;32m     73\u001b[0m \u001b[1;33m\u001b[0m\u001b[0m\n\u001b[0;32m     74\u001b[0m     \u001b[1;32mdef\u001b[0m \u001b[0m__init__\u001b[0m\u001b[1;33m(\u001b[0m\u001b[0mself\u001b[0m\u001b[1;33m,\u001b[0m \u001b[0mroot\u001b[0m\u001b[1;33m,\u001b[0m \u001b[0mloader\u001b[0m\u001b[1;33m,\u001b[0m \u001b[0mextensions\u001b[0m\u001b[1;33m,\u001b[0m \u001b[0mtransform\u001b[0m\u001b[1;33m=\u001b[0m\u001b[1;32mNone\u001b[0m\u001b[1;33m,\u001b[0m \u001b[0mtarget_transform\u001b[0m\u001b[1;33m=\u001b[0m\u001b[1;32mNone\u001b[0m\u001b[1;33m)\u001b[0m\u001b[1;33m:\u001b[0m\u001b[1;33m\u001b[0m\u001b[1;33m\u001b[0m\u001b[0m\n\u001b[1;32m---> 75\u001b[1;33m         \u001b[0mclasses\u001b[0m\u001b[1;33m,\u001b[0m \u001b[0mclass_to_idx\u001b[0m \u001b[1;33m=\u001b[0m \u001b[0mfind_classes\u001b[0m\u001b[1;33m(\u001b[0m\u001b[0mroot\u001b[0m\u001b[1;33m)\u001b[0m\u001b[1;33m\u001b[0m\u001b[1;33m\u001b[0m\u001b[0m\n\u001b[0m\u001b[0;32m     76\u001b[0m         \u001b[0msamples\u001b[0m \u001b[1;33m=\u001b[0m \u001b[0mmake_dataset\u001b[0m\u001b[1;33m(\u001b[0m\u001b[0mroot\u001b[0m\u001b[1;33m,\u001b[0m \u001b[0mclass_to_idx\u001b[0m\u001b[1;33m,\u001b[0m \u001b[0mextensions\u001b[0m\u001b[1;33m)\u001b[0m\u001b[1;33m\u001b[0m\u001b[1;33m\u001b[0m\u001b[0m\n\u001b[0;32m     77\u001b[0m         \u001b[1;32mif\u001b[0m \u001b[0mlen\u001b[0m\u001b[1;33m(\u001b[0m\u001b[0msamples\u001b[0m\u001b[1;33m)\u001b[0m \u001b[1;33m==\u001b[0m \u001b[1;36m0\u001b[0m\u001b[1;33m:\u001b[0m\u001b[1;33m\u001b[0m\u001b[1;33m\u001b[0m\u001b[0m\n",
      "\u001b[1;32m~\\anaconda3\\envs\\ami_3_7\\lib\\site-packages\\torchvision\\datasets\\folder.py\u001b[0m in \u001b[0;36mfind_classes\u001b[1;34m(dir)\u001b[0m\n\u001b[0;32m     21\u001b[0m \u001b[1;33m\u001b[0m\u001b[0m\n\u001b[0;32m     22\u001b[0m \u001b[1;32mdef\u001b[0m \u001b[0mfind_classes\u001b[0m\u001b[1;33m(\u001b[0m\u001b[0mdir\u001b[0m\u001b[1;33m)\u001b[0m\u001b[1;33m:\u001b[0m\u001b[1;33m\u001b[0m\u001b[1;33m\u001b[0m\u001b[0m\n\u001b[1;32m---> 23\u001b[1;33m     \u001b[0mclasses\u001b[0m \u001b[1;33m=\u001b[0m \u001b[1;33m[\u001b[0m\u001b[0md\u001b[0m \u001b[1;32mfor\u001b[0m \u001b[0md\u001b[0m \u001b[1;32min\u001b[0m \u001b[0mos\u001b[0m\u001b[1;33m.\u001b[0m\u001b[0mlistdir\u001b[0m\u001b[1;33m(\u001b[0m\u001b[0mdir\u001b[0m\u001b[1;33m)\u001b[0m \u001b[1;32mif\u001b[0m \u001b[0mos\u001b[0m\u001b[1;33m.\u001b[0m\u001b[0mpath\u001b[0m\u001b[1;33m.\u001b[0m\u001b[0misdir\u001b[0m\u001b[1;33m(\u001b[0m\u001b[0mos\u001b[0m\u001b[1;33m.\u001b[0m\u001b[0mpath\u001b[0m\u001b[1;33m.\u001b[0m\u001b[0mjoin\u001b[0m\u001b[1;33m(\u001b[0m\u001b[0mdir\u001b[0m\u001b[1;33m,\u001b[0m \u001b[0md\u001b[0m\u001b[1;33m)\u001b[0m\u001b[1;33m)\u001b[0m\u001b[1;33m]\u001b[0m\u001b[1;33m\u001b[0m\u001b[1;33m\u001b[0m\u001b[0m\n\u001b[0m\u001b[0;32m     24\u001b[0m     \u001b[0mclasses\u001b[0m\u001b[1;33m.\u001b[0m\u001b[0msort\u001b[0m\u001b[1;33m(\u001b[0m\u001b[1;33m)\u001b[0m\u001b[1;33m\u001b[0m\u001b[1;33m\u001b[0m\u001b[0m\n\u001b[0;32m     25\u001b[0m     \u001b[0mclass_to_idx\u001b[0m \u001b[1;33m=\u001b[0m \u001b[1;33m{\u001b[0m\u001b[0mclasses\u001b[0m\u001b[1;33m[\u001b[0m\u001b[0mi\u001b[0m\u001b[1;33m]\u001b[0m\u001b[1;33m:\u001b[0m \u001b[0mi\u001b[0m \u001b[1;32mfor\u001b[0m \u001b[0mi\u001b[0m \u001b[1;32min\u001b[0m \u001b[0mrange\u001b[0m\u001b[1;33m(\u001b[0m\u001b[0mlen\u001b[0m\u001b[1;33m(\u001b[0m\u001b[0mclasses\u001b[0m\u001b[1;33m)\u001b[0m\u001b[1;33m)\u001b[0m\u001b[1;33m}\u001b[0m\u001b[1;33m\u001b[0m\u001b[1;33m\u001b[0m\u001b[0m\n",
      "\u001b[1;31mFileNotFoundError\u001b[0m: [WinError 3] Das System kann den angegebenen Pfad nicht finden: '../AMIL_Data/test/40X'"
     ]
    }
   ],
   "source": [
    "%run my_network/net.py"
   ]
  },
  {
   "cell_type": "code",
   "execution_count": null,
   "id": "b58511fe-54c8-4b79-99da-4ba2b85ae179",
   "metadata": {},
   "outputs": [],
   "source": []
  }
 ],
 "metadata": {
  "kernelspec": {
   "display_name": "ami_3_7",
   "language": "python",
   "name": "ami_3_7"
  },
  "language_info": {
   "codemirror_mode": {
    "name": "ipython",
    "version": 3
   },
   "file_extension": ".py",
   "mimetype": "text/x-python",
   "name": "python",
   "nbconvert_exporter": "python",
   "pygments_lexer": "ipython3",
   "version": "3.7.15"
  }
 },
 "nbformat": 4,
 "nbformat_minor": 5
}
