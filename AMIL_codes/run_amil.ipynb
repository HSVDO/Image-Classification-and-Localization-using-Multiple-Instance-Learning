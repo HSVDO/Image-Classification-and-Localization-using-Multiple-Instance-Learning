{
 "cells": [
  {
   "cell_type": "code",
   "execution_count": 1,
   "id": "cc72b4b0-03f1-4d34-bb66-cf33df62ed3d",
   "metadata": {},
   "outputs": [
    {
     "name": "stdout",
     "output_type": "stream",
     "text": [
      "Package                       Version\n",
      "----------------------------- -----------\n",
      "absl-py                       0.7.0\n",
      "anyio                         3.6.2\n",
      "argon2-cffi                   21.3.0\n",
      "argon2-cffi-bindings          21.2.0\n",
      "astor                         0.7.1\n",
      "attrs                         22.2.0\n",
      "Babel                         2.11.0\n",
      "backcall                      0.2.0\n",
      "backports.functools-lru-cache 1.5\n",
      "backports.weakref             1.0.post1\n",
      "beautifulsoup4                4.11.1\n",
      "bleach                        5.0.1\n",
      "brotlipy                      0.7.0\n",
      "cached-property               1.5.2\n",
      "certifi                       2022.12.7\n",
      "cffi                          1.15.1\n",
      "charset-normalizer            2.1.1\n",
      "colorama                      0.4.6\n",
      "cryptography                  37.0.4\n",
      "cycler                        0.10.0\n",
      "debugpy                       1.5.1\n"
     ]
    },
    {
     "name": "stderr",
     "output_type": "stream",
     "text": [
      "WARNING: Ignoring invalid distribution -illow (d:\\programme\\anaconda_envs\\ami_3_7\\lib\\site-packages)\n",
      "WARNING: Ignoring invalid distribution -illow (d:\\programme\\anaconda_envs\\ami_3_7\\lib\\site-packages)\n",
      "WARNING: Ignoring invalid distribution -illow (d:\\programme\\anaconda_envs\\ami_3_7\\lib\\site-packages)\n",
      "WARNING: Ignoring invalid distribution -illow (d:\\programme\\anaconda_envs\\ami_3_7\\lib\\site-packages)\n"
     ]
    },
    {
     "name": "stdout",
     "output_type": "stream",
     "text": [
      "decorator                     5.1.1\n",
      "defusedxml                    0.7.1\n",
      "entrypoints                   0.4\n",
      "enum34                        1.1.6\n",
      "fastjsonschema                2.16.2\n",
      "flit_core                     3.8.0\n",
      "funcsigs                      1.0.2\n",
      "futures                       3.0.5\n",
      "gast                          0.2.2\n",
      "grpcio                        1.19.0\n",
      "h5py                          2.9.0\n",
      "idna                          3.4\n",
      "imageio                       2.9.0\n",
      "importlib-metadata            4.11.4\n",
      "importlib-resources           5.10.2\n",
      "ipykernel                     6.9.1\n",
      "ipython                       7.31.1\n",
      "ipython-genutils              0.2.0\n",
      "ipywidgets                    8.0.4\n",
      "jedi                          0.18.1\n",
      "Jinja2                        3.1.2\n",
      "json5                         0.9.5\n",
      "jsonschema                    4.17.3\n",
      "jupyter-client                7.2.2\n",
      "jupyter-core                  4.10.0\n",
      "jupyter-server                1.23.4\n",
      "jupyterlab                    3.5.2\n",
      "jupyterlab-pygments           0.2.2\n",
      "jupyterlab_server             2.18.0\n",
      "jupyterlab-widgets            3.0.5\n",
      "Keras-Applications            1.0.7\n",
      "Keras-Preprocessing           1.0.9\n",
      "kiwisolver                    1.0.1\n",
      "Markdown                      3.0.1\n",
      "MarkupSafe                    2.1.1\n",
      "matplotlib                    2.2.3\n",
      "matplotlib-inline             0.1.6\n",
      "mistune                       2.0.4\n",
      "mock                          2.0.0\n",
      "nbclassic                     0.4.8\n",
      "nbclient                      0.6.8\n",
      "nbconvert                     7.2.7\n",
      "nbformat                      5.7.1\n",
      "nest-asyncio                  1.5.5\n",
      "networkx                      2.6.3\n",
      "notebook                      6.5.2\n",
      "notebook_shim                 0.2.2\n",
      "numpy                         1.21.6\n",
      "opencv-python                 4.0.0.21\n",
      "openslide-python              1.2.0\n",
      "packaging                     22.0\n",
      "pandocfilters                 1.5.0\n",
      "parso                         0.8.3\n",
      "pbr                           5.1.3\n",
      "pickleshare                   0.7.5\n",
      "Pillow                        5.3.0\n",
      "pip                           22.3.1\n",
      "pkgutil_resolve_name          1.3.10\n",
      "prometheus-client             0.15.0\n",
      "prompt-toolkit                3.0.36\n",
      "protobuf                      3.7.0\n",
      "pycparser                     2.21\n",
      "Pygments                      2.11.2\n",
      "pyOpenSSL                     22.0.0\n",
      "pyparsing                     2.2.2\n",
      "pyrsistent                    0.18.0\n",
      "PySocks                       1.7.1\n",
      "python-dateutil               2.7.4\n",
      "pytz                          2018.6\n",
      "PyWavelets                    1.3.0\n",
      "pywin32                       302\n",
      "pywinpty                      2.0.2\n",
      "pyzmq                         22.3.0\n",
      "requests                      2.28.1\n",
      "scipy                         1.7.3\n",
      "Send2Trash                    1.8.0\n",
      "setuptools                    65.5.0\n",
      "six                           1.11.0\n",
      "sniffio                       1.3.0\n",
      "soupsieve                     2.3.2.post1\n",
      "subprocess32                  3.5.3\n",
      "tensorboard                   1.13.1\n",
      "tensorboardX                  1.6\n",
      "tensorflow                    1.13.1\n",
      "tensorflow-estimator          1.13.0\n",
      "termcolor                     1.1.0\n",
      "terminado                     0.15.0\n",
      "tifffile                      2021.11.2\n",
      "tinycss2                      1.2.1\n",
      "tomli                         2.0.1\n",
      "torch                         1.13.1\n",
      "torchvision                   0.2.1\n",
      "tornado                       6.1\n",
      "tqdm                          4.64.1\n",
      "traitlets                     5.7.1\n",
      "typing_extensions             4.4.0\n",
      "urllib3                       1.26.13\n",
      "wcwidth                       0.2.5\n",
      "webencodings                  0.5.1\n",
      "websocket-client              1.4.2\n",
      "Werkzeug                      0.14.1\n",
      "wheel                         0.37.1\n",
      "widgetsnbextension            4.0.5\n",
      "win-inet-pton                 1.1.0\n",
      "wincertstore                  0.2\n",
      "wrapt                         1.14.1\n",
      "zipp                          3.11.0\n"
     ]
    }
   ],
   "source": [
    "!pip list"
   ]
  },
  {
   "cell_type": "code",
   "execution_count": 1,
   "id": "f43b171b-c610-4852-a072-2b7fa9e0e3ce",
   "metadata": {},
   "outputs": [
    {
     "name": "stdout",
     "output_type": "stream",
     "text": [
      "Version 3.7.15\n"
     ]
    }
   ],
   "source": [
    "from platform import python_version\n",
    "\n",
    "\n",
    "print(\"Version \" + python_version())"
   ]
  },
  {
   "cell_type": "markdown",
   "id": "4ab77195-ce30-4c5d-aabf-42ef91e325e8",
   "metadata": {},
   "source": [
    "## Check Cuda support"
   ]
  },
  {
   "cell_type": "code",
   "execution_count": 3,
   "id": "7924492d-4600-46fa-a473-fc4fd8a5523e",
   "metadata": {},
   "outputs": [
    {
     "name": "stdout",
     "output_type": "stream",
     "text": [
      "torch is using cuda. Hooray!\n"
     ]
    }
   ],
   "source": [
    "import torch\n",
    "try:\n",
    "    torch.zeros(1).cuda()  # https://stackoverflow.com/a/61034368/6038463\n",
    "    print(\"torch is using cuda. Hooray!\")\n",
    "except AssertionError:\n",
    "    print(\n",
    "        f\"torch might not be compiled with cuda support: torch.version={torch.version}, torch.version.cuda={torch.version.cuda}\")"
   ]
  },
  {
   "cell_type": "code",
   "execution_count": 20,
   "id": "0e2f2e93-acb1-4e95-a609-e20eaa1c9cc0",
   "metadata": {},
   "outputs": [],
   "source": [
    "!run_for_all_zoom.sh"
   ]
  },
  {
   "cell_type": "code",
   "execution_count": null,
   "id": "0c634831-061b-4fbd-a4e2-b1fb21699415",
   "metadata": {},
   "outputs": [],
   "source": []
  }
 ],
 "metadata": {
  "kernelspec": {
   "display_name": "ami_3_7",
   "language": "python",
   "name": "ami_3_7"
  },
  "language_info": {
   "codemirror_mode": {
    "name": "ipython",
    "version": 3
   },
   "file_extension": ".py",
   "mimetype": "text/x-python",
   "name": "python",
   "nbconvert_exporter": "python",
   "pygments_lexer": "ipython3",
   "version": "3.7.15"
  }
 },
 "nbformat": 4,
 "nbformat_minor": 5
}
